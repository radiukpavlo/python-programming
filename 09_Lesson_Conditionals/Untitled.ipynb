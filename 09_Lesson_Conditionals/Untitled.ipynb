{
 "cells": [
  {
   "cell_type": "code",
   "execution_count": 1,
   "id": "af67dc58-2a64-4bbd-bd43-eb65df894002",
   "metadata": {},
   "outputs": [
    {
     "name": "stdout",
     "output_type": "stream",
     "text": [
      "A is a positive number\n"
     ]
    }
   ],
   "source": [
    "a = 3\n",
    "if a < 0:\n",
    "    print('A is a negative number')\n",
    "else:\n",
    "    print('A is a positive number')"
   ]
  },
  {
   "cell_type": "code",
   "execution_count": 2,
   "id": "c51d3def-019d-4edc-96b1-96485d67d666",
   "metadata": {},
   "outputs": [
    {
     "name": "stdout",
     "output_type": "stream",
     "text": [
      "A is zero\n"
     ]
    }
   ],
   "source": [
    "a = 0\n",
    "if a > 0:\n",
    "    print('A is a positive number')\n",
    "elif a < 0:\n",
    "    print('A is a negative number')\n",
    "else:\n",
    "    print('A is zero')"
   ]
  },
  {
   "cell_type": "code",
   "execution_count": 3,
   "id": "7ca29937-a8a2-40ec-ab58-4149fe59dd8e",
   "metadata": {},
   "outputs": [
    {
     "name": "stdout",
     "output_type": "stream",
     "text": [
      "A is positive\n"
     ]
    }
   ],
   "source": [
    "a = 3\n",
    "print('A is positive') if a > 0 else print('A is negative')"
   ]
  },
  {
   "cell_type": "code",
   "execution_count": 4,
   "id": "96baf569-51e1-4b26-b0d7-364a667334a8",
   "metadata": {},
   "outputs": [
    {
     "name": "stdout",
     "output_type": "stream",
     "text": [
      "Access denied!\n"
     ]
    }
   ],
   "source": [
    "user = 'James'\n",
    "access_level = 3\n",
    "if user == 'admin' or access_level >= 4:\n",
    "    print('Access granted!')\n",
    "else:\n",
    "    print('Access denied!')"
   ]
  },
  {
   "cell_type": "code",
   "execution_count": 5,
   "id": "5ea30edb-1a0e-4391-b2c3-83b860ef7789",
   "metadata": {},
   "outputs": [
    {
     "name": "stdout",
     "output_type": "stream",
     "text": [
      "{'first_name': 'Asabeneh', 'last_name': 'Yetayeh', 'age': 250, 'country': 'Finland', 'is_marred': True, 'skills': ['JavaScript', 'React', 'Node', 'MongoDB', 'Python', 'HTML'], 'address': {'street': 'Space street', 'zipcode': '02210'}, 'job_title': 'Instructor'}\n"
     ]
    }
   ],
   "source": [
    "person = {\n",
    "    'first_name':'Asabeneh',\n",
    "    'last_name':'Yetayeh',\n",
    "    'age':250,\n",
    "    'country':'Finland',\n",
    "    'is_marred':True,\n",
    "    'skills':['JavaScript', 'React', 'Node', 'MongoDB', 'Python'],\n",
    "    'address':{\n",
    "        'street':'Space street',\n",
    "        'zipcode':'02210'\n",
    "        }\n",
    "}\n",
    "person['job_title'] = 'Instructor'\n",
    "person['skills'].append('HTML')\n",
    "print(person)"
   ]
  },
  {
   "cell_type": "code",
   "execution_count": null,
   "id": "9118fc3a-dc57-4d37-920a-8ef20983416d",
   "metadata": {},
   "outputs": [],
   "source": []
  }
 ],
 "metadata": {
  "kernelspec": {
   "display_name": "Python 3 (ipykernel)",
   "language": "python",
   "name": "python3"
  },
  "language_info": {
   "codemirror_mode": {
    "name": "ipython",
    "version": 3
   },
   "file_extension": ".py",
   "mimetype": "text/x-python",
   "name": "python",
   "nbconvert_exporter": "python",
   "pygments_lexer": "ipython3",
   "version": "3.9.13"
  }
 },
 "nbformat": 4,
 "nbformat_minor": 5
}
